{
  "nbformat": 4,
  "nbformat_minor": 0,
  "metadata": {
    "colab": {
      "name": "DBSCAN.ipynb",
      "provenance": []
    },
    "kernelspec": {
      "name": "python3",
      "display_name": "Python 3"
    }
  },
  "cells": [
    {
      "cell_type": "code",
      "metadata": {
        "id": "bXSPtJHIAs2Z"
      },
      "source": [
        "# DBSCAN Clustering\r\n",
        "\r\n",
        "# Importing the libraries\r\n",
        "import numpy as np\r\n",
        "import pandas as pd\r\n",
        "\r\n"
      ],
      "execution_count": 2,
      "outputs": []
    },
    {
      "cell_type": "code",
      "metadata": {
        "colab": {
          "base_uri": "https://localhost:8080/"
        },
        "id": "urwPlkyaAyTK",
        "outputId": "377d61a1-9d75-4ed1-8cd6-2a8dbd829d48"
      },
      "source": [
        "# Importing the dataset\r\n",
        "dataset = pd.read_csv('Mall_Customers.csv')\r\n",
        "print(dataset.head())\r\n",
        "X = dataset.iloc[:, [3, 4]].values\r\n"
      ],
      "execution_count": 9,
      "outputs": [
        {
          "output_type": "stream",
          "text": [
            "   CustomerID   Genre  Age  Annual Income (k$)  Spending Score (1-100)\n",
            "0           1    Male   19                  15                      39\n",
            "1           2    Male   21                  15                      81\n",
            "2           3  Female   20                  16                       6\n",
            "3           4  Female   23                  16                      77\n",
            "4           5  Female   31                  17                      40\n"
          ],
          "name": "stdout"
        }
      ]
    },
    {
      "cell_type": "code",
      "metadata": {
        "id": "Wh4fvd1jA1Mw"
      },
      "source": [
        "# Using the elbow method to find the optimal number of clusters\r\n",
        "from sklearn.cluster import DBSCAN\r\n",
        "dbscan=DBSCAN(eps=3,min_samples=4)\r\n",
        "\r\n",
        "\r\n"
      ],
      "execution_count": 10,
      "outputs": []
    },
    {
      "cell_type": "code",
      "metadata": {
        "colab": {
          "base_uri": "https://localhost:8080/"
        },
        "id": "eo3fAHawBqjv",
        "outputId": "9ca608a0-f94a-465e-c4b8-e4e17ba9c2f5"
      },
      "source": [
        "# Fitting the model\r\n",
        "\r\n",
        "model=dbscan.fit(X)\r\n",
        "\r\n",
        "labels=model.labels_\r\n",
        "labels[:10]\r\n"
      ],
      "execution_count": 19,
      "outputs": [
        {
          "output_type": "execute_result",
          "data": {
            "text/plain": [
              "array([-1, -1, -1, -1, -1, -1, -1, -1, -1, -1])"
            ]
          },
          "metadata": {
            "tags": []
          },
          "execution_count": 19
        }
      ]
    },
    {
      "cell_type": "code",
      "metadata": {
        "colab": {
          "base_uri": "https://localhost:8080/"
        },
        "id": "bkQMii9ABvaC",
        "outputId": "46cead0d-3f35-4d25-aac0-4ac12eb015e9"
      },
      "source": [
        "from sklearn import metrics\r\n",
        "\r\n",
        "#identifying the points which makes up our core points\r\n",
        "sample_cores=np.zeros_like(labels,dtype=bool)\r\n",
        "\r\n",
        "sample_cores[dbscan.core_sample_indices_]=True\r\n",
        "\r\n",
        "#Calculating the number of clusters\r\n",
        "\r\n",
        "n_clusters=len(set(labels))- (1 if -1 in labels else 0)\r\n",
        "print(\"Number of clusters:\",n_clusters)\r\n",
        "\r\n",
        "\r\n",
        "\r\n",
        "print(metrics.silhouette_score(X,labels))"
      ],
      "execution_count": 23,
      "outputs": [
        {
          "output_type": "stream",
          "text": [
            "Number of clusters: 9\n",
            "-0.1908319132560097\n"
          ],
          "name": "stdout"
        }
      ]
    }
  ]
}